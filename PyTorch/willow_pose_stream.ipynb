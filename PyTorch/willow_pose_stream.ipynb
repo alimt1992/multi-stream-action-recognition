{
 "cells": [
  {
   "cell_type": "code",
   "execution_count": 1,
   "metadata": {},
   "outputs": [],
   "source": [
    "\n",
    "%reload_ext autoreload\n",
    "%autoreload 2\n",
    "%matplotlib inline\n",
    "\n",
    "import math\n",
    "import time\n",
    "import os\n",
    "import glob\n",
    "import numpy as np\n",
    "import matplotlib.pyplot as plt\n",
    "from tqdm import tqdm\n",
    "from PIL import Image\n",
    "from sklearn.metrics import confusion_matrix\n",
    "\n",
    "import torch\n",
    "import torch.nn as nn\n",
    "import torch.optim as optim\n",
    "from torch.autograd import Variable\n",
    "\n",
    "import torchvision\n",
    "import torchvision.datasets as datasets\n",
    "import torchvision.models as models\n",
    "import torchvision.transforms as transforms\n",
    "\n",
    "\n",
    "\n",
    "\n",
    "# Our libraries\n",
    "from train import train_model\n",
    "from model_utils import *\n",
    "from predict_utils import *\n",
    "from vis_utils import *\n",
    "from apmeter import *\n",
    "from train_valid_split import *\n",
    "\n",
    "# some initial setup\n",
    "np.set_printoptions(precision=2)\n",
    "use_gpu = torch.cuda.is_available()\n",
    "np.random.seed(1234)"
   ]
  },
  {
   "cell_type": "code",
   "execution_count": 2,
   "metadata": {},
   "outputs": [],
   "source": [
    "def plot_loss(trn_hist, val_hist, loss_acc):\n",
    "    plt.plot(trn_hist, label='Training ' + loss_acc)\n",
    "    plt.plot(val_hist, label='Validation ' + loss_acc)\n",
    "    plt.legend()\n",
    "    plt.xlabel('Epoch')\n",
    "    plt.ylabel(loss_acc)\n",
    "    plt.show()"
   ]
  },
  {
   "cell_type": "code",
   "execution_count": null,
   "metadata": {},
   "outputs": [],
   "source": [
    "def freeze_bn(m):\n",
    "    if isinstance(m, nn.BatchNorm2d):\n",
    "        m.eval()"
   ]
  },
  {
   "cell_type": "code",
   "execution_count": 3,
   "metadata": {},
   "outputs": [],
   "source": [
    "use_gpu = True\n",
    "cuda_available = torch.cuda.is_available()\n",
    "device = torch.device(\"cuda\" if (cuda_available and use_gpu) else \"cpu\")"
   ]
  },
  {
   "cell_type": "code",
   "execution_count": 4,
   "metadata": {},
   "outputs": [],
   "source": [
    "DATA_DIR = \"F:/MyArticel/DTASET/NEW DATASETTT/willow_orgin_20_from_test/mask_pose/\"\n",
    "\n",
    "sz = 224\n",
    "batch_size = 16"
   ]
  },
  {
   "cell_type": "code",
   "execution_count": 5,
   "metadata": {},
   "outputs": [
    {
     "data": {
      "text/plain": [
       "['test', 'train', 'valid']"
      ]
     },
     "execution_count": 5,
     "metadata": {},
     "output_type": "execute_result"
    }
   ],
   "source": [
    "os.listdir(DATA_DIR)"
   ]
  },
  {
   "cell_type": "code",
   "execution_count": 6,
   "metadata": {},
   "outputs": [],
   "source": [
    "trn_dir = f'{DATA_DIR}train'\n",
    "val_dir = f'{DATA_DIR}valid'"
   ]
  },
  {
   "cell_type": "code",
   "execution_count": 7,
   "metadata": {},
   "outputs": [
    {
     "data": {
      "text/plain": [
       "['InteractingWithComputer',\n",
       " 'Photographing',\n",
       " 'PlayingMusic',\n",
       " 'RidingBike',\n",
       " 'RidingHorse',\n",
       " 'Running',\n",
       " 'Walking']"
      ]
     },
     "execution_count": 7,
     "metadata": {},
     "output_type": "execute_result"
    }
   ],
   "source": [
    "os.listdir(trn_dir)"
   ]
  },
  {
   "cell_type": "code",
   "execution_count": 8,
   "metadata": {},
   "outputs": [
    {
     "data": {
      "text/plain": [
       "['F:/MyArticel/DTASET/NEW DATASETTT/willow_orgin_20_from_test/mask_pose/train\\\\InteractingWithComputer\\\\action0002.jpg',\n",
       " 'F:/MyArticel/DTASET/NEW DATASETTT/willow_orgin_20_from_test/mask_pose/train\\\\InteractingWithComputer\\\\action0004.jpg',\n",
       " 'F:/MyArticel/DTASET/NEW DATASETTT/willow_orgin_20_from_test/mask_pose/train\\\\InteractingWithComputer\\\\action0005.jpg',\n",
       " 'F:/MyArticel/DTASET/NEW DATASETTT/willow_orgin_20_from_test/mask_pose/train\\\\InteractingWithComputer\\\\action0006.jpg',\n",
       " 'F:/MyArticel/DTASET/NEW DATASETTT/willow_orgin_20_from_test/mask_pose/train\\\\InteractingWithComputer\\\\action0007.jpg']"
      ]
     },
     "execution_count": 8,
     "metadata": {},
     "output_type": "execute_result"
    }
   ],
   "source": [
    "trn_fnames = glob.glob(f'{trn_dir}/*/*.jpg')\n",
    "trn_fnames[:5]"
   ]
  },
  {
   "cell_type": "code",
   "execution_count": 9,
   "metadata": {},
   "outputs": [],
   "source": [
    "# LOAD DATA\n",
    "train_ds = datasets.ImageFolder(trn_dir)"
   ]
  },
  {
   "cell_type": "code",
   "execution_count": 10,
   "metadata": {},
   "outputs": [
    {
     "data": {
      "text/plain": [
       "['InteractingWithComputer',\n",
       " 'Photographing',\n",
       " 'PlayingMusic',\n",
       " 'RidingBike',\n",
       " 'RidingHorse',\n",
       " 'Running',\n",
       " 'Walking']"
      ]
     },
     "execution_count": 10,
     "metadata": {},
     "output_type": "execute_result"
    }
   ],
   "source": [
    "train_ds.classes"
   ]
  },
  {
   "cell_type": "code",
   "execution_count": 11,
   "metadata": {},
   "outputs": [
    {
     "data": {
      "text/plain": [
       "{'InteractingWithComputer': 0,\n",
       " 'Photographing': 1,\n",
       " 'PlayingMusic': 2,\n",
       " 'RidingBike': 3,\n",
       " 'RidingHorse': 4,\n",
       " 'Running': 5,\n",
       " 'Walking': 6}"
      ]
     },
     "execution_count": 11,
     "metadata": {},
     "output_type": "execute_result"
    }
   ],
   "source": [
    "train_ds.class_to_idx"
   ]
  },
  {
   "cell_type": "code",
   "execution_count": 12,
   "metadata": {},
   "outputs": [
    {
     "data": {
      "text/plain": [
       "'F:/MyArticel/DTASET/NEW DATASETTT/willow_orgin_20_from_test/mask_pose/train'"
      ]
     },
     "execution_count": 12,
     "metadata": {},
     "output_type": "execute_result"
    }
   ],
   "source": [
    "train_ds.root"
   ]
  },
  {
   "cell_type": "code",
   "execution_count": 13,
   "metadata": {},
   "outputs": [
    {
     "data": {
      "text/plain": [
       "NoneType"
      ]
     },
     "execution_count": 13,
     "metadata": {},
     "output_type": "execute_result"
    }
   ],
   "source": [
    "type(train_ds.transform)"
   ]
  },
  {
   "cell_type": "code",
   "execution_count": 14,
   "metadata": {},
   "outputs": [
    {
     "name": "stdout",
     "output_type": "stream",
     "text": [
      "Train size: 429\n",
      "Valid size: 99 (0.19)\n"
     ]
    }
   ],
   "source": [
    "\n",
    "# Data augmentation and normalization for training \n",
    "train_transforms = transforms.Compose([\n",
    "    transforms.Resize((sz, sz)),\n",
    "    transforms.RandomHorizontalFlip(),\n",
    "    transforms.ColorJitter(0.1, 0.1, 0.1, 0.01),\n",
    "    transforms.RandomRotation(20),\n",
    "    transforms.CenterCrop(224),\n",
    "    transforms.ToTensor(),\n",
    "    transforms.Normalize([0.485, 0.456, 0.406], [0.229, 0.224, 0.225])\n",
    "])\n",
    "\n",
    "# Just normalization for validation\n",
    "valid_transforms = transforms.Compose([\n",
    "    transforms.Resize((sz, sz)),\n",
    "    transforms.ToTensor(),\n",
    "    transforms.Normalize([0.485, 0.456, 0.406], [0.229, 0.224, 0.225])\n",
    "])\n",
    "\n",
    "train_ds = datasets.ImageFolder(f'{DATA_DIR}train', train_transforms)\n",
    "#valid_ds = datasets.ImageFolder(f'{DATA_DIR}valid', valid_transforms)\n",
    "\n",
    "train_ds, valid_ds = train_valid_split(train_ds, 10)\n",
    "\n",
    "train_dl = torch.utils.data.DataLoader(train_ds, batch_size=batch_size, shuffle=True)\n",
    "valid_dl = torch.utils.data.DataLoader(valid_ds, batch_size=batch_size, shuffle=True)\n",
    "\n",
    "train_ds_sz = len(train_ds)\n",
    "valid_ds_sz = len(valid_ds)\n",
    "\n",
    "print('Train size: {}\\nValid size: {} ({:.2f})'.format(train_ds_sz, valid_ds_sz, valid_ds_sz/(train_ds_sz + valid_ds_sz)))\n",
    "\n",
    "class_names = train_ds.mother.classes"
   ]
  },
  {
   "cell_type": "code",
   "execution_count": 15,
   "metadata": {},
   "outputs": [
    {
     "data": {
      "text/plain": [
       "(429, 99)"
      ]
     },
     "execution_count": 15,
     "metadata": {},
     "output_type": "execute_result"
    }
   ],
   "source": [
    "len (train_ds), len (valid_ds)"
   ]
  },
  {
   "cell_type": "code",
   "execution_count": 16,
   "metadata": {},
   "outputs": [],
   "source": [
    "# dataloader\n",
    "train_dl = torch.utils.data.DataLoader(train_ds, batch_size=batch_size, \n",
    "                                       shuffle=True, num_workers=4)\n",
    "valid_dl = torch.utils.data.DataLoader(valid_ds, batch_size=batch_size, \n",
    "                                       shuffle=True, num_workers=4)"
   ]
  },
  {
   "cell_type": "code",
   "execution_count": 17,
   "metadata": {},
   "outputs": [
    {
     "data": {
      "image/png": "[encoded data removed]",
      "text/plain": [
       "<Figure size 1152x864 with 1 Axes>"
      ]
     },
     "metadata": {
      "needs_background": "light"
     },
     "output_type": "display_data"
    }
   ],
   "source": [
    "inputs,targets =  next(iter(train_dl))\n",
    "out = torchvision.utils.make_grid(inputs, padding=3)\n",
    "plt.figure(figsize=(16, 12))\n",
    "imshow(out, title='random image from training data')"
   ]
  },
  {
   "cell_type": "code",
   "execution_count": 18,
   "metadata": {},
   "outputs": [
    {
     "data": {
      "text/plain": [
       "ResNet(\n",
       "  (conv1): Conv2d(3, 64, kernel_size=(7, 7), stride=(2, 2), padding=(3, 3), bias=False)\n",
       "  (bn1): BatchNorm2d(64, eps=1e-05, momentum=0.1, affine=True, track_running_stats=True)\n",
       "  (relu): ReLU(inplace)\n",
       "  (maxpool): MaxPool2d(kernel_size=3, stride=2, padding=1, dilation=1, ceil_mode=False)\n",
       "  (layer1): Sequential(\n",
       "    (0): Bottleneck(\n",
       "      (conv1): Conv2d(64, 64, kernel_size=(1, 1), stride=(1, 1), bias=False)\n",
       "      (bn1): BatchNorm2d(64, eps=1e-05, momentum=0.1, affine=True, track_running_stats=True)\n",
       "      (conv2): Conv2d(64, 64, kernel_size=(3, 3), stride=(1, 1), padding=(1, 1), bias=False)\n",
       "      (bn2): BatchNorm2d(64, eps=1e-05, momentum=0.1, affine=True, track_running_stats=True)\n",
       "      (conv3): Conv2d(64, 256, kernel_size=(1, 1), stride=(1, 1), bias=False)\n",
       "      (bn3): BatchNorm2d(256, eps=1e-05, momentum=0.1, affine=True, track_running_stats=True)\n",
       "      (relu): ReLU(inplace)\n",
       "      (downsample): Sequential(\n",
       "        (0): Conv2d(64, 256, kernel_size=(1, 1), stride=(1, 1), bias=False)\n",
       "        (1): BatchNorm2d(256, eps=1e-05, momentum=0.1, affine=True, track_running_stats=True)\n",
       "      )\n",
       "    )\n",
       "    (1): Bottleneck(\n",
       "      (conv1): Conv2d(256, 64, kernel_size=(1, 1), stride=(1, 1), bias=False)\n",
       "      (bn1): BatchNorm2d(64, eps=1e-05, momentum=0.1, affine=True, track_running_stats=True)\n",
       "      (conv2): Conv2d(64, 64, kernel_size=(3, 3), stride=(1, 1), padding=(1, 1), bias=False)\n",
       "      (bn2): BatchNorm2d(64, eps=1e-05, momentum=0.1, affine=True, track_running_stats=True)\n",
       "      (conv3): Conv2d(64, 256, kernel_size=(1, 1), stride=(1, 1), bias=False)\n",
       "      (bn3): BatchNorm2d(256, eps=1e-05, momentum=0.1, affine=True, track_running_stats=True)\n",
       "      (relu): ReLU(inplace)\n",
       "    )\n",
       "    (2): Bottleneck(\n",
       "      (conv1): Conv2d(256, 64, kernel_size=(1, 1), stride=(1, 1), bias=False)\n",
       "      (bn1): BatchNorm2d(64, eps=1e-05, momentum=0.1, affine=True, track_running_stats=True)\n",
       "      (conv2): Conv2d(64, 64, kernel_size=(3, 3), stride=(1, 1), padding=(1, 1), bias=False)\n",
       "      (bn2): BatchNorm2d(64, eps=1e-05, momentum=0.1, affine=True, track_running_stats=True)\n",
       "      (conv3): Conv2d(64, 256, kernel_size=(1, 1), stride=(1, 1), bias=False)\n",
       "      (bn3): BatchNorm2d(256, eps=1e-05, momentum=0.1, affine=True, track_running_stats=True)\n",
       "      (relu): ReLU(inplace)\n",
       "    )\n",
       "  )\n",
       "  (layer2): Sequential(\n",
       "    (0): Bottleneck(\n",
       "      (conv1): Conv2d(256, 128, kernel_size=(1, 1), stride=(1, 1), bias=False)\n",
       "      (bn1): BatchNorm2d(128, eps=1e-05, momentum=0.1, affine=True, track_running_stats=True)\n",
       "      (conv2): Conv2d(128, 128, kernel_size=(3, 3), stride=(2, 2), padding=(1, 1), bias=False)\n",
       "      (bn2): BatchNorm2d(128, eps=1e-05, momentum=0.1, affine=True, track_running_stats=True)\n",
       "      (conv3): Conv2d(128, 512, kernel_size=(1, 1), stride=(1, 1), bias=False)\n",
       "      (bn3): BatchNorm2d(512, eps=1e-05, momentum=0.1, affine=True, track_running_stats=True)\n",
       "      (relu): ReLU(inplace)\n",
       "      (downsample): Sequential(\n",
       "        (0): Conv2d(256, 512, kernel_size=(1, 1), stride=(2, 2), bias=False)\n",
       "        (1): BatchNorm2d(512, eps=1e-05, momentum=0.1, affine=True, track_running_stats=True)\n",
       "      )\n",
       "    )\n",
       "    (1): Bottleneck(\n",
       "      (conv1): Conv2d(512, 128, kernel_size=(1, 1), stride=(1, 1), bias=False)\n",
       "      (bn1): BatchNorm2d(128, eps=1e-05, momentum=0.1, affine=True, track_running_stats=True)\n",
       "      (conv2): Conv2d(128, 128, kernel_size=(3, 3), stride=(1, 1), padding=(1, 1), bias=False)\n",
       "      (bn2): BatchNorm2d(128, eps=1e-05, momentum=0.1, affine=True, track_running_stats=True)\n",
       "      (conv3): Conv2d(128, 512, kernel_size=(1, 1), stride=(1, 1), bias=False)\n",
       "      (bn3): BatchNorm2d(512, eps=1e-05, momentum=0.1, affine=True, track_running_stats=True)\n",
       "      (relu): ReLU(inplace)\n",
       "    )\n",
       "    (2): Bottleneck(\n",
       "      (conv1): Conv2d(512, 128, kernel_size=(1, 1), stride=(1, 1), bias=False)\n",
       "      (bn1): BatchNorm2d(128, eps=1e-05, momentum=0.1, affine=True, track_running_stats=True)\n",
       "      (conv2): Conv2d(128, 128, kernel_size=(3, 3), stride=(1, 1), padding=(1, 1), bias=False)\n",
       "      (bn2): BatchNorm2d(128, eps=1e-05, momentum=0.1, affine=True, track_running_stats=True)\n",
       "      (conv3): Conv2d(128, 512, kernel_size=(1, 1), stride=(1, 1), bias=False)\n",
       "      (bn3): BatchNorm2d(512, eps=1e-05, momentum=0.1, affine=True, track_running_stats=True)\n",
       "      (relu): ReLU(inplace)\n",
       "    )\n",
       "    (3): Bottleneck(\n",
       "      (conv1): Conv2d(512, 128, kernel_size=(1, 1), stride=(1, 1), bias=False)\n",
       "      (bn1): BatchNorm2d(128, eps=1e-05, momentum=0.1, affine=True, track_running_stats=True)\n",
       "      (conv2): Conv2d(128, 128, kernel_size=(3, 3), stride=(1, 1), padding=(1, 1), bias=False)\n",
       "      (bn2): BatchNorm2d(128, eps=1e-05, momentum=0.1, affine=True, track_running_stats=True)\n",
       "      (conv3): Conv2d(128, 512, kernel_size=(1, 1), stride=(1, 1), bias=False)\n",
       "      (bn3): BatchNorm2d(512, eps=1e-05, momentum=0.1, affine=True, track_running_stats=True)\n",
       "      (relu): ReLU(inplace)\n",
       "    )\n",
       "  )\n",
       "  (layer3): Sequential(\n",
       "    (0): Bottleneck(\n",
       "      (conv1): Conv2d(512, 256, kernel_size=(1, 1), stride=(1, 1), bias=False)\n",
       "      (bn1): BatchNorm2d(256, eps=1e-05, momentum=0.1, affine=True, track_running_stats=True)\n",
       "      (conv2): Conv2d(256, 256, kernel_size=(3, 3), stride=(2, 2), padding=(1, 1), bias=False)\n",
       "      (bn2): BatchNorm2d(256, eps=1e-05, momentum=0.1, affine=True, track_running_stats=True)\n",
       "      (conv3): Conv2d(256, 1024, kernel_size=(1, 1), stride=(1, 1), bias=False)\n",
       "      (bn3): BatchNorm2d(1024, eps=1e-05, momentum=0.1, affine=True, track_running_stats=True)\n",
       "      (relu): ReLU(inplace)\n",
       "      (downsample): Sequential(\n",
       "        (0): Conv2d(512, 1024, kernel_size=(1, 1), stride=(2, 2), bias=False)\n",
       "        (1): BatchNorm2d(1024, eps=1e-05, momentum=0.1, affine=True, track_running_stats=True)\n",
       "      )\n",
       "    )\n",
       "    (1): Bottleneck(\n",
       "      (conv1): Conv2d(1024, 256, kernel_size=(1, 1), stride=(1, 1), bias=False)\n",
       "      (bn1): BatchNorm2d(256, eps=1e-05, momentum=0.1, affine=True, track_running_stats=True)\n",
       "      (conv2): Conv2d(256, 256, kernel_size=(3, 3), stride=(1, 1), padding=(1, 1), bias=False)\n",
       "      (bn2): BatchNorm2d(256, eps=1e-05, momentum=0.1, affine=True, track_running_stats=True)\n",
       "      (conv3): Conv2d(256, 1024, kernel_size=(1, 1), stride=(1, 1), bias=False)\n",
       "      (bn3): BatchNorm2d(1024, eps=1e-05, momentum=0.1, affine=True, track_running_stats=True)\n",
       "      (relu): ReLU(inplace)\n",
       "    )\n",
       "    (2): Bottleneck(\n",
       "      (conv1): Conv2d(1024, 256, kernel_size=(1, 1), stride=(1, 1), bias=False)\n",
       "      (bn1): BatchNorm2d(256, eps=1e-05, momentum=0.1, affine=True, track_running_stats=True)\n",
       "      (conv2): Conv2d(256, 256, kernel_size=(3, 3), stride=(1, 1), padding=(1, 1), bias=False)\n",
       "      (bn2): BatchNorm2d(256, eps=1e-05, momentum=0.1, affine=True, track_running_stats=True)\n",
       "      (conv3): Conv2d(256, 1024, kernel_size=(1, 1), stride=(1, 1), bias=False)\n",
       "      (bn3): BatchNorm2d(1024, eps=1e-05, momentum=0.1, affine=True, track_running_stats=True)\n",
       "      (relu): ReLU(inplace)\n",
       "    )\n",
       "    (3): Bottleneck(\n",
       "      (conv1): Conv2d(1024, 256, kernel_size=(1, 1), stride=(1, 1), bias=False)\n",
       "      (bn1): BatchNorm2d(256, eps=1e-05, momentum=0.1, affine=True, track_running_stats=True)\n",
       "      (conv2): Conv2d(256, 256, kernel_size=(3, 3), stride=(1, 1), padding=(1, 1), bias=False)\n",
       "      (bn2): BatchNorm2d(256, eps=1e-05, momentum=0.1, affine=True, track_running_stats=True)\n",
       "      (conv3): Conv2d(256, 1024, kernel_size=(1, 1), stride=(1, 1), bias=False)\n",
       "      (bn3): BatchNorm2d(1024, eps=1e-05, momentum=0.1, affine=True, track_running_stats=True)\n",
       "      (relu): ReLU(inplace)\n",
       "    )\n",
       "    (4): Bottleneck(\n",
       "      (conv1): Conv2d(1024, 256, kernel_size=(1, 1), stride=(1, 1), bias=False)\n",
       "      (bn1): BatchNorm2d(256, eps=1e-05, momentum=0.1, affine=True, track_running_stats=True)\n",
       "      (conv2): Conv2d(256, 256, kernel_size=(3, 3), stride=(1, 1), padding=(1, 1), bias=False)\n",
       "      (bn2): BatchNorm2d(256, eps=1e-05, momentum=0.1, affine=True, track_running_stats=True)\n",
       "      (conv3): Conv2d(256, 1024, kernel_size=(1, 1), stride=(1, 1), bias=False)\n",
       "      (bn3): BatchNorm2d(1024, eps=1e-05, momentum=0.1, affine=True, track_running_stats=True)\n",
       "      (relu): ReLU(inplace)\n",
       "    )\n",
       "    (5): Bottleneck(\n",
       "      (conv1): Conv2d(1024, 256, kernel_size=(1, 1), stride=(1, 1), bias=False)\n",
       "      (bn1): BatchNorm2d(256, eps=1e-05, momentum=0.1, affine=True, track_running_stats=True)\n",
       "      (conv2): Conv2d(256, 256, kernel_size=(3, 3), stride=(1, 1), padding=(1, 1), bias=False)\n",
       "      (bn2): BatchNorm2d(256, eps=1e-05, momentum=0.1, affine=True, track_running_stats=True)\n",
       "      (conv3): Conv2d(256, 1024, kernel_size=(1, 1), stride=(1, 1), bias=False)\n",
       "      (bn3): BatchNorm2d(1024, eps=1e-05, momentum=0.1, affine=True, track_running_stats=True)\n",
       "      (relu): ReLU(inplace)\n",
       "    )\n",
       "  )\n",
       "  (layer4): Sequential(\n",
       "    (0): Bottleneck(\n",
       "      (conv1): Conv2d(1024, 512, kernel_size=(1, 1), stride=(1, 1), bias=False)\n",
       "      (bn1): BatchNorm2d(512, eps=1e-05, momentum=0.1, affine=True, track_running_stats=True)\n",
       "      (conv2): Conv2d(512, 512, kernel_size=(3, 3), stride=(2, 2), padding=(1, 1), bias=False)\n",
       "      (bn2): BatchNorm2d(512, eps=1e-05, momentum=0.1, affine=True, track_running_stats=True)\n",
       "      (conv3): Conv2d(512, 2048, kernel_size=(1, 1), stride=(1, 1), bias=False)\n",
       "      (bn3): BatchNorm2d(2048, eps=1e-05, momentum=0.1, affine=True, track_running_stats=True)\n",
       "      (relu): ReLU(inplace)\n",
       "      (downsample): Sequential(\n",
       "        (0): Conv2d(1024, 2048, kernel_size=(1, 1), stride=(2, 2), bias=False)\n",
       "        (1): BatchNorm2d(2048, eps=1e-05, momentum=0.1, affine=True, track_running_stats=True)\n",
       "      )\n",
       "    )\n",
       "    (1): Bottleneck(\n",
       "      (conv1): Conv2d(2048, 512, kernel_size=(1, 1), stride=(1, 1), bias=False)\n",
       "      (bn1): BatchNorm2d(512, eps=1e-05, momentum=0.1, affine=True, track_running_stats=True)\n",
       "      (conv2): Conv2d(512, 512, kernel_size=(3, 3), stride=(1, 1), padding=(1, 1), bias=False)\n",
       "      (bn2): BatchNorm2d(512, eps=1e-05, momentum=0.1, affine=True, track_running_stats=True)\n",
       "      (conv3): Conv2d(512, 2048, kernel_size=(1, 1), stride=(1, 1), bias=False)\n",
       "      (bn3): BatchNorm2d(2048, eps=1e-05, momentum=0.1, affine=True, track_running_stats=True)\n",
       "      (relu): ReLU(inplace)\n",
       "    )\n",
       "    (2): Bottleneck(\n",
       "      (conv1): Conv2d(2048, 512, kernel_size=(1, 1), stride=(1, 1), bias=False)\n",
       "      (bn1): BatchNorm2d(512, eps=1e-05, momentum=0.1, affine=True, track_running_stats=True)\n",
       "      (conv2): Conv2d(512, 512, kernel_size=(3, 3), stride=(1, 1), padding=(1, 1), bias=False)\n",
       "      (bn2): BatchNorm2d(512, eps=1e-05, momentum=0.1, affine=True, track_running_stats=True)\n",
       "      (conv3): Conv2d(512, 2048, kernel_size=(1, 1), stride=(1, 1), bias=False)\n",
       "      (bn3): BatchNorm2d(2048, eps=1e-05, momentum=0.1, affine=True, track_running_stats=True)\n",
       "      (relu): ReLU(inplace)\n",
       "    )\n",
       "  )\n",
       "  (avgpool): AvgPool2d(kernel_size=7, stride=1, padding=0)\n",
       "  (fc): Linear(in_features=2048, out_features=7, bias=True)\n",
       ")"
      ]
     },
     "execution_count": 18,
     "metadata": {},
     "output_type": "execute_result"
    }
   ],
   "source": [
    "import ssl\n",
    "\n",
    "ssl._create_default_https_context = ssl._create_unverified_context\n",
    "\n",
    "# load pre-trained ResNet50\n",
    "model = load_pretrained_resnet50(model_path=None, num_classes=7)\n",
    "model.apply(freeze_bn)\n",
    "\n",
    "# loss and optimizer\n",
    "criterion = nn.CrossEntropyLoss()\n",
    "optimizer = optim.SGD(model.parameters(), lr=0.0003, momentum=0.9)\n",
    "scheduler = optim.lr_scheduler.StepLR(optimizer, step_size=1, gamma=0.9)\n",
    "# optimizer = optim.Adam(model.parameters(), lr=0.0002)\n",
    "# scheduler = optim.lr_scheduler.StepLR(optimizer, step_size=2, gamma=0.95)\n",
    "\n",
    "model = model.to(device)\n",
    "criterion = criterion.to(device)\n",
    "model"
   ]
  },
  {
   "cell_type": "code",
   "execution_count": 19,
   "metadata": {},
   "outputs": [
    {
     "name": "stdout",
     "output_type": "stream",
     "text": [
      "Epoch 1/15\n",
      "----------\n",
      "  train Loss: 1.97035 Acc: 0.16084\n",
      "  valid Loss: 1.92280 Acc: 0.23232\n",
      "\n",
      "Epoch 2/15\n",
      "----------\n",
      "  train Loss: 1.89225 Acc: 0.24009\n",
      "  valid Loss: 1.86904 Acc: 0.25253\n",
      "\n",
      "Epoch 3/15\n",
      "----------\n",
      "  train Loss: 1.83140 Acc: 0.27506\n",
      "  valid Loss: 1.85112 Acc: 0.30303\n",
      "\n",
      "Epoch 4/15\n",
      "----------\n",
      "  train Loss: 1.76072 Acc: 0.33800\n",
      "  valid Loss: 1.78662 Acc: 0.34343\n",
      "\n",
      "Epoch 5/15\n",
      "----------\n",
      "  train Loss: 1.71010 Acc: 0.37529\n",
      "  valid Loss: 1.76919 Acc: 0.36364\n",
      "\n",
      "Epoch 6/15\n",
      "----------\n",
      "  train Loss: 1.65753 Acc: 0.38462\n",
      "  valid Loss: 1.72585 Acc: 0.40404\n",
      "\n",
      "Epoch 7/15\n",
      "----------\n",
      "  train Loss: 1.61256 Acc: 0.46154\n",
      "  valid Loss: 1.68034 Acc: 0.36364\n",
      "\n",
      "Epoch 8/15\n",
      "----------\n",
      "  train Loss: 1.57036 Acc: 0.43823\n",
      "  valid Loss: 1.62589 Acc: 0.38384\n",
      "\n",
      "Epoch 9/15\n",
      "----------\n",
      "  train Loss: 1.54303 Acc: 0.49883\n",
      "  valid Loss: 1.61894 Acc: 0.37374\n",
      "\n",
      "Epoch 10/15\n",
      "----------\n",
      "  train Loss: 1.49964 Acc: 0.51049\n",
      "  valid Loss: 1.62377 Acc: 0.35354\n",
      "\n",
      "Epoch 11/15\n",
      "----------\n",
      "  train Loss: 1.45437 Acc: 0.52448\n",
      "  valid Loss: 1.59933 Acc: 0.41414\n",
      "\n",
      "Epoch 12/15\n",
      "----------\n",
      "  train Loss: 1.45502 Acc: 0.52914\n",
      "  valid Loss: 1.53921 Acc: 0.41414\n",
      "\n",
      "Epoch 13/15\n",
      "----------\n",
      "  train Loss: 1.42252 Acc: 0.54779\n",
      "  valid Loss: 1.54227 Acc: 0.42424\n",
      "\n",
      "Epoch 14/15\n",
      "----------\n",
      "  train Loss: 1.40580 Acc: 0.55012\n",
      "  valid Loss: 1.52284 Acc: 0.40404\n",
      "\n",
      "Epoch 15/15\n",
      "----------\n",
      "  train Loss: 1.37932 Acc: 0.54779\n",
      "  valid Loss: 1.49172 Acc: 0.43434\n",
      "\n",
      "Training complete in 2m 37s\n",
      "Best val Acc: 0.4343\n",
      "Best val Loss: 1.4917\n"
     ]
    }
   ],
   "source": [
    "# training\n",
    "model, trn_loss_hist, val_loss_hist, trn_acc_hist, val_acc_hist = train_model(model, train_dl, valid_dl, criterion, optimizer, scheduler, num_epochs=15)"
   ]
  },
  {
   "cell_type": "code",
   "execution_count": 20,
   "metadata": {},
   "outputs": [
    {
     "data": {
      "image/png": "[encoded data removed]",
      "text/plain": [
       "<Figure size 432x288 with 1 Axes>"
      ]
     },
     "metadata": {
      "needs_background": "light"
     },
     "output_type": "display_data"
    }
   ],
   "source": [
    "loss_acc = 'Loss'\n",
    "plot_loss(trn_loss_hist, val_loss_hist, loss_acc)"
   ]
  },
  {
   "cell_type": "code",
   "execution_count": 21,
   "metadata": {},
   "outputs": [
    {
     "data": {
      "image/png": "[encoded data removed]",
      "text/plain": [
       "<Figure size 432x288 with 1 Axes>"
      ]
     },
     "metadata": {
      "needs_background": "light"
     },
     "output_type": "display_data"
    }
   ],
   "source": [
    "loss_acc = 'Accuracy'\n",
    "plot_loss(trn_acc_hist, val_acc_hist, loss_acc)"
   ]
  },
  {
   "cell_type": "code",
   "execution_count": 31,
   "metadata": {},
   "outputs": [],
   "source": [
    "for param in model.parameters():\n",
    "    param.require_grad = False\n",
    "\n",
    "criterion = nn.CrossEntropyLoss()\n",
    "optimizer = optim.SGD(model.parameters(), lr=0.0001, momentum=0.9)\n",
    "scheduler = optim.lr_scheduler.StepLR(optimizer, step_size=2, gamma=0.9)\n",
    "model = model.to(device)\n",
    "criterion = criterion.to(device)"
   ]
  },
  {
   "cell_type": "code",
   "execution_count": 32,
   "metadata": {},
   "outputs": [
    {
     "name": "stdout",
     "output_type": "stream",
     "text": [
      "Epoch 1/50\n",
      "----------\n",
      "  train Loss: 1.13381 Acc: 0.63403\n",
      "  valid Loss: 1.39163 Acc: 0.41414\n",
      "\n",
      "Epoch 2/50\n",
      "----------\n",
      "  train Loss: 1.14994 Acc: 0.62005\n",
      "  valid Loss: 1.37682 Acc: 0.44444\n",
      "\n",
      "Epoch 3/50\n",
      "----------\n",
      "  train Loss: 1.11017 Acc: 0.63869\n",
      "  valid Loss: 1.42477 Acc: 0.44444\n",
      "\n",
      "Epoch 4/50\n",
      "----------\n",
      "  train Loss: 1.09855 Acc: 0.66200\n",
      "  valid Loss: 1.38946 Acc: 0.46465\n",
      "\n",
      "Epoch 5/50\n",
      "----------\n",
      "  train Loss: 1.07581 Acc: 0.66434\n",
      "  valid Loss: 1.32340 Acc: 0.45455\n",
      "\n",
      "Epoch 6/50\n",
      "----------\n",
      "  train Loss: 1.10302 Acc: 0.64569\n",
      "  valid Loss: 1.31591 Acc: 0.45455\n",
      "\n",
      "Epoch 7/50\n",
      "----------\n",
      "  train Loss: 1.06721 Acc: 0.67599\n",
      "  valid Loss: 1.40143 Acc: 0.44444\n",
      "\n",
      "Epoch 8/50\n",
      "----------\n",
      "  train Loss: 1.04655 Acc: 0.66667\n",
      "  valid Loss: 1.26221 Acc: 0.44444\n",
      "\n",
      "Epoch 9/50\n",
      "----------\n",
      "  train Loss: 1.01746 Acc: 0.69231\n",
      "  valid Loss: 1.26201 Acc: 0.49495\n",
      "\n",
      "Epoch 10/50\n",
      "----------\n",
      "  train Loss: 0.99672 Acc: 0.69697\n",
      "  valid Loss: 1.36145 Acc: 0.47475\n",
      "\n",
      "Epoch 11/50\n",
      "----------\n",
      "  train Loss: 1.02270 Acc: 0.66434\n",
      "  valid Loss: 1.38423 Acc: 0.47475\n",
      "\n",
      "Epoch 12/50\n",
      "----------\n",
      "  train Loss: 0.97471 Acc: 0.69697\n",
      "  valid Loss: 1.41987 Acc: 0.42424\n",
      "\n",
      "Epoch 13/50\n",
      "----------\n",
      "  train Loss: 0.97263 Acc: 0.67133\n",
      "  valid Loss: 1.47308 Acc: 0.44444\n",
      "\n",
      "Epoch 14/50\n",
      "----------\n",
      "  train Loss: 0.93899 Acc: 0.69464\n",
      "  valid Loss: 1.26648 Acc: 0.45455\n",
      "\n",
      "Epoch 15/50\n",
      "----------\n",
      "  train Loss: 0.95405 Acc: 0.69930\n",
      "  valid Loss: 1.32597 Acc: 0.43434\n",
      "\n",
      "Epoch 16/50\n",
      "----------\n",
      "  train Loss: 0.94706 Acc: 0.72727\n",
      "  valid Loss: 1.33770 Acc: 0.44444\n",
      "\n",
      "Epoch 17/50\n",
      "----------\n",
      "  train Loss: 0.92882 Acc: 0.71562\n",
      "  valid Loss: 1.34237 Acc: 0.46465\n",
      "\n",
      "Epoch 18/50\n",
      "----------\n",
      "  train Loss: 0.91195 Acc: 0.70862\n",
      "  valid Loss: 1.32469 Acc: 0.44444\n",
      "\n",
      "Epoch 19/50\n",
      "----------\n",
      "  train Loss: 0.92606 Acc: 0.70629\n",
      "  valid Loss: 1.25378 Acc: 0.45455\n",
      "\n",
      "Epoch 20/50\n",
      "----------\n",
      "  train Loss: 0.88234 Acc: 0.71562\n",
      "  valid Loss: 1.24356 Acc: 0.48485\n",
      "\n",
      "Epoch 21/50\n",
      "----------\n",
      "  train Loss: 0.87568 Acc: 0.73193\n",
      "  valid Loss: 1.20052 Acc: 0.46465\n",
      "\n",
      "Epoch 22/50\n",
      "----------\n",
      "  train Loss: 0.84561 Acc: 0.76690\n",
      "  valid Loss: 1.35409 Acc: 0.42424\n",
      "\n",
      "Epoch 23/50\n",
      "----------\n",
      "  train Loss: 0.87344 Acc: 0.72727\n",
      "  valid Loss: 1.35281 Acc: 0.46465\n",
      "\n",
      "Epoch 24/50\n",
      "----------\n",
      "  train Loss: 0.86667 Acc: 0.73660\n",
      "  valid Loss: 1.32101 Acc: 0.45455\n",
      "\n",
      "Epoch 25/50\n",
      "----------\n",
      "  train Loss: 0.85167 Acc: 0.74592\n",
      "  valid Loss: 1.31126 Acc: 0.45455\n",
      "\n",
      "Epoch 26/50\n",
      "----------\n",
      "  train Loss: 0.86880 Acc: 0.73193\n",
      "  valid Loss: 1.25978 Acc: 0.45455\n",
      "\n",
      "Epoch 27/50\n",
      "----------\n",
      "  train Loss: 0.86191 Acc: 0.74592\n",
      "  valid Loss: 1.41864 Acc: 0.42424\n",
      "\n",
      "Epoch 28/50\n",
      "----------\n",
      "  train Loss: 0.82556 Acc: 0.75524\n",
      "  valid Loss: 1.27444 Acc: 0.44444\n",
      "\n",
      "Epoch 29/50\n",
      "----------\n",
      "  train Loss: 0.85270 Acc: 0.77156\n",
      "  valid Loss: 1.50641 Acc: 0.45455\n",
      "\n",
      "Epoch 30/50\n",
      "----------\n",
      "  train Loss: 0.83990 Acc: 0.73427\n",
      "  valid Loss: 1.38484 Acc: 0.44444\n",
      "\n",
      "Epoch 31/50\n",
      "----------\n",
      "  train Loss: 0.78971 Acc: 0.77156\n",
      "  valid Loss: 1.32470 Acc: 0.45455\n",
      "\n",
      "Epoch 32/50\n",
      "----------\n",
      "  train Loss: 0.79455 Acc: 0.73427\n",
      "  valid Loss: 1.37378 Acc: 0.43434\n",
      "\n",
      "Epoch 33/50\n",
      "----------\n",
      "  train Loss: 0.76891 Acc: 0.77855\n",
      "  valid Loss: 1.29182 Acc: 0.42424\n",
      "\n",
      "Epoch 34/50\n",
      "----------\n",
      "  train Loss: 0.81013 Acc: 0.76690\n",
      "  valid Loss: 1.29943 Acc: 0.46465\n",
      "\n",
      "Epoch 35/50\n",
      "----------\n",
      "  train Loss: 0.81622 Acc: 0.73893\n",
      "  valid Loss: 1.31010 Acc: 0.43434\n",
      "\n",
      "Epoch 36/50\n",
      "----------\n",
      "  train Loss: 0.77647 Acc: 0.78322\n",
      "  valid Loss: 1.40469 Acc: 0.47475\n",
      "\n",
      "Epoch 37/50\n",
      "----------\n",
      "  train Loss: 0.82828 Acc: 0.72727\n",
      "  valid Loss: 1.24900 Acc: 0.47475\n",
      "\n",
      "Epoch 38/50\n",
      "----------\n",
      "  train Loss: 0.77574 Acc: 0.75758\n",
      "  valid Loss: 1.32335 Acc: 0.47475\n",
      "\n",
      "Epoch 39/50\n",
      "----------\n",
      "  train Loss: 0.80438 Acc: 0.76457\n",
      "  valid Loss: 1.23939 Acc: 0.47475\n",
      "\n",
      "Epoch 40/50\n",
      "----------\n",
      "  train Loss: 0.78883 Acc: 0.77156\n",
      "  valid Loss: 1.32968 Acc: 0.44444\n",
      "\n",
      "Epoch 41/50\n",
      "----------\n",
      "  train Loss: 0.75772 Acc: 0.78322\n",
      "  valid Loss: 1.43971 Acc: 0.46465\n",
      "\n",
      "Epoch 42/50\n",
      "----------\n",
      "  train Loss: 0.82026 Acc: 0.74359\n",
      "  valid Loss: 1.35518 Acc: 0.45455\n",
      "\n",
      "Epoch 43/50\n",
      "----------\n",
      "  train Loss: 0.74949 Acc: 0.79254\n",
      "  valid Loss: 1.35567 Acc: 0.42424\n",
      "\n",
      "Epoch 44/50\n",
      "----------\n",
      "  train Loss: 0.78851 Acc: 0.75758\n",
      "  valid Loss: 1.47749 Acc: 0.44444\n",
      "\n",
      "Epoch 45/50\n",
      "----------\n",
      "  train Loss: 0.73300 Acc: 0.79953\n",
      "  valid Loss: 1.36432 Acc: 0.44444\n",
      "\n",
      "Epoch 46/50\n",
      "----------\n",
      "  train Loss: 0.75654 Acc: 0.80886\n",
      "  valid Loss: 1.22674 Acc: 0.45455\n",
      "\n",
      "Epoch 47/50\n",
      "----------\n",
      "  train Loss: 0.74657 Acc: 0.78555\n",
      "  valid Loss: 1.34305 Acc: 0.43434\n",
      "\n",
      "Epoch 48/50\n",
      "----------\n",
      "  train Loss: 0.76342 Acc: 0.79021\n",
      "  valid Loss: 1.40980 Acc: 0.45455\n",
      "\n",
      "Epoch 49/50\n",
      "----------\n",
      "  train Loss: 0.75170 Acc: 0.78322\n",
      "  valid Loss: 1.27003 Acc: 0.45455\n",
      "\n",
      "Epoch 50/50\n",
      "----------\n",
      "  train Loss: 0.77898 Acc: 0.76457\n",
      "  valid Loss: 1.34647 Acc: 0.44444\n",
      "\n",
      "Training complete in 8m 36s\n",
      "Best val Acc: 0.4949\n",
      "Best val Loss: 1.2005\n"
     ]
    }
   ],
   "source": [
    "model, trn_loss_hist1, val_loss_hist1, trn_acc_hist1, val_acc_hist1 = train_model(model, train_dl, valid_dl, criterion, optimizer, scheduler, num_epochs=50)"
   ]
  },
  {
   "cell_type": "code",
   "execution_count": 33,
   "metadata": {},
   "outputs": [],
   "source": [
    "trn_loss_hist.extend(trn_loss_hist1)\n",
    "val_loss_hist.extend(val_loss_hist1)\n",
    "trn_acc_hist.extend(trn_acc_hist1)\n",
    "val_acc_hist.extend(val_acc_hist1)"
   ]
  },
  {
   "cell_type": "code",
   "execution_count": 34,
   "metadata": {},
   "outputs": [
    {
     "data": {
      "image/png": "[encoded data removed]",
      "text/plain": [
       "<Figure size 432x288 with 1 Axes>"
      ]
     },
     "metadata": {
      "needs_background": "light"
     },
     "output_type": "display_data"
    }
   ],
   "source": [
    "loss_acc = 'Loss'\n",
    "plot_loss(trn_loss_hist, val_loss_hist, loss_acc)"
   ]
  },
  {
   "cell_type": "code",
   "execution_count": 35,
   "metadata": {},
   "outputs": [
    {
     "data": {
      "image/png": "[encoded data removed]",
      "text/plain": [
       "<Figure size 432x288 with 1 Axes>"
      ]
     },
     "metadata": {
      "needs_background": "light"
     },
     "output_type": "display_data"
    }
   ],
   "source": [
    "loss_acc = 'Accuracy'\n",
    "plot_loss(trn_acc_hist, val_acc_hist, loss_acc)"
   ]
  },
  {
   "cell_type": "code",
   "execution_count": 36,
   "metadata": {},
   "outputs": [],
   "source": [
    "# acuracy on validation data\n",
    "\n",
    "def evaluate_model(model, dataloader):\n",
    "    model.eval()  # for batch normalization layers\n",
    "    corrects = 0\n",
    "    for inputs, targets in dataloader:\n",
    "        inputs, targets = to_var(inputs, True), to_var(targets, True)\n",
    "        outputs = model(inputs)\n",
    "        _, preds = torch.max(outputs.data, 1)\n",
    "        corrects += (preds == targets.data).sum()\n",
    "    \n",
    "    print('accuracy: {:.2f}'.format(100. * corrects / len(dataloader.dataset)))"
   ]
  },
  {
   "cell_type": "code",
   "execution_count": 37,
   "metadata": {},
   "outputs": [],
   "source": [
    "# mAP\n",
    "m = torch.nn.Softmax(dim=1)\n",
    "def calculate_model_mAP(model, dataloader):\n",
    "    mAP = APMeter()\n",
    "    model.eval()  # for batch normalization layers\n",
    "    corrects = 0\n",
    "    for inputs, targets in dataloader:\n",
    "        inputs, targets = to_var(inputs, True), to_var(targets, True)\n",
    "        outputs = model(inputs)\n",
    "        outputs = m(outputs)\n",
    "        targets.resize_(targets.size(0), 1)\n",
    "        targets = Variable(targets)\n",
    "        \n",
    "        one_hot = torch.cuda.FloatTensor(targets.size(0), outputs.size(1)).zero_()\n",
    "        one_hot.scatter_(1, targets.data, 1)\n",
    "        one_hot = Variable(one_hot)\n",
    "        mAP.add(outputs,one_hot)\n",
    "\n",
    "        #print(outputs.data)\n",
    "    \n",
    "    for i, value in enumerate(mAP.value()):\n",
    "        print(train_ds.classes[i], ' AP: {:.2f}'.format(100. * value))\n",
    "    print('mAP: {:.2f}'.format(100. * mAP.value().sum() / mAP.value().size(0)))"
   ]
  },
  {
   "cell_type": "code",
   "execution_count": null,
   "metadata": {},
   "outputs": [],
   "source": [
    "evaluate_model(model, valid_dl)"
   ]
  },
  {
   "cell_type": "code",
   "execution_count": null,
   "metadata": {},
   "outputs": [],
   "source": [
    "evaluate_model(model, train_dl)"
   ]
  },
  {
   "cell_type": "code",
   "execution_count": null,
   "metadata": {},
   "outputs": [],
   "source": [
    "visualize_model(model, train_dl)"
   ]
  },
  {
   "cell_type": "code",
   "execution_count": null,
   "metadata": {},
   "outputs": [],
   "source": [
    "visualize_model(model, valid_dl)"
   ]
  },
  {
   "cell_type": "code",
   "execution_count": null,
   "metadata": {},
   "outputs": [],
   "source": [
    "plot_errors(model, train_dl)"
   ]
  },
  {
   "cell_type": "code",
   "execution_count": null,
   "metadata": {},
   "outputs": [],
   "source": [
    "# confusion matrix\n",
    "y_pred, y_true = predict_class(model, valid_dl)\n",
    "cm = confusion_matrix(y_true, y_pred)\n",
    "plot_confusion_matrix(cm, train_ds.classes, normalize=True, figsize=(12,12 ))"
   ]
  },
  {
   "cell_type": "code",
   "execution_count": null,
   "metadata": {},
   "outputs": [],
   "source": [
    "# Look at the sizes of the images\n",
    "\n",
    "fnames = glob.glob(f'{trn_dir}/*/*.png')\n",
    "sizes = [Image.open(f).size for f in fnames]\n",
    "\n",
    "hs, ws = list(zip(*sizes))\n",
    "\n",
    "plt.figure(figsize=(12., 4.))\n",
    "plt.hist(hs)\n",
    "plt.hist(ws);"
   ]
  },
  {
   "cell_type": "code",
   "execution_count": null,
   "metadata": {},
   "outputs": [],
   "source": [
    "visualize_model(model, valid_dl, num_images=6)"
   ]
  },
  {
   "cell_type": "code",
   "execution_count": null,
   "metadata": {},
   "outputs": [],
   "source": [
    "plot_errors(model, valid_dl)"
   ]
  },
  {
   "cell_type": "code",
   "execution_count": 38,
   "metadata": {},
   "outputs": [
    {
     "data": {
      "text/plain": [
       "399"
      ]
     },
     "execution_count": 38,
     "metadata": {},
     "output_type": "execute_result"
    }
   ],
   "source": [
    "### testing\n",
    "\n",
    "class_names = train_ds.classes\n",
    "test_dir = f'{DATA_DIR}\\\\test'\n",
    "test_ds = datasets.ImageFolder(test_dir,valid_transforms)\n",
    "len(test_ds)"
   ]
  },
  {
   "cell_type": "code",
   "execution_count": 39,
   "metadata": {},
   "outputs": [],
   "source": [
    "### dataloder\n",
    "\n",
    "test_dl =  torch.utils.data.DataLoader(test_ds,batch_size= batch_size, num_workers=8)"
   ]
  },
  {
   "cell_type": "code",
   "execution_count": null,
   "metadata": {},
   "outputs": [],
   "source": [
    "pred_class_names, y = predict_class_names(model, test_dl, class_names)\n",
    "\n",
    "test_fnames= glob.glob(f'{test_dir}/*/*.png')\n",
    "len(test_fnames), test_fnames [:5]"
   ]
  },
  {
   "cell_type": "code",
   "execution_count": null,
   "metadata": {},
   "outputs": [],
   "source": [
    "test_fnames_len= len(test_fnames)\n",
    "for i in range(test_fnames_len):\n",
    "    test_fnames[i] = os.path.basename(test_fnames[i])\n",
    "    \n",
    "    len(test_fnames), test_fnames[:5]"
   ]
  },
  {
   "cell_type": "code",
   "execution_count": null,
   "metadata": {},
   "outputs": [],
   "source": [
    "pred_result = np.stack([test_fnames, pred_class_names], axis=1)\n",
    "len(pred_result), pred_result"
   ]
  },
  {
   "cell_type": "code",
   "execution_count": 41,
   "metadata": {},
   "outputs": [
    {
     "name": "stdout",
     "output_type": "stream",
     "text": [
      "accuracy: 40.00\n"
     ]
    }
   ],
   "source": [
    "evaluate_model(model, test_dl)"
   ]
  },
  {
   "cell_type": "code",
   "execution_count": 40,
   "metadata": {},
   "outputs": [
    {
     "name": "stdout",
     "output_type": "stream",
     "text": [
      "InteractingWithComputer  AP: 30.23\n",
      "Photographing  AP: 38.54\n",
      "PlayingMusic  AP: 49.92\n",
      "RidingBike  AP: 57.45\n",
      "RidingHorse  AP: 56.93\n",
      "Running  AP: 47.43\n",
      "Walking  AP: 43.04\n",
      "mAP: 46.22\n"
     ]
    }
   ],
   "source": [
    "calculate_model_mAP(model, test_dl)"
   ]
  },
  {
   "cell_type": "code",
   "execution_count": null,
   "metadata": {},
   "outputs": [],
   "source": [
    "plot_errors(model, test_dl)"
   ]
  },
  {
   "cell_type": "code",
   "execution_count": null,
   "metadata": {},
   "outputs": [],
   "source": [
    "# confusion matrix\n",
    "y_pred, y_true = predict_class(model, test_dl)\n",
    "cm = confusion_matrix(y_true, y_pred)\n",
    "plot_confusion_matrix(cm, train_ds.classes, normalize=True, figsize=(12,12 ))"
   ]
  },
  {
   "cell_type": "code",
   "execution_count": null,
   "metadata": {},
   "outputs": [],
   "source": []
  }
 ],
 "metadata": {
  "kernelspec": {
   "display_name": "Python 3",
   "language": "python",
   "name": "python3"
  },
  "language_info": {
   "codemirror_mode": {
    "name": "ipython",
    "version": 3
   },
   "file_extension": ".py",
   "mimetype": "text/x-python",
   "name": "python",
   "nbconvert_exporter": "python",
   "pygments_lexer": "ipython3",
   "version": "3.6.6"
  }
 },
 "nbformat": 4,
 "nbformat_minor": 2
}
